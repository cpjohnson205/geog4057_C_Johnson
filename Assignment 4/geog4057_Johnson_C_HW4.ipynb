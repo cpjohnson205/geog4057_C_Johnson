{
 "cells": [
  {
   "cell_type": "markdown",
   "metadata": {},
   "source": [
    "## Q1\n",
    "population info pulled from https://worldpopulationreview.com/us-counties/louisiana"
   ]
  },
  {
   "cell_type": "code",
   "execution_count": 23,
   "metadata": {},
   "outputs": [
    {
     "name": "stdout",
     "output_type": "stream",
     "text": [
      "5\n",
      "East Baton Rouge\n",
      "Jefferson\n",
      "Orleans\n",
      "St. Tammany\n",
      "Lafayette\n"
     ]
    }
   ],
   "source": [
    "counties = ['East Baton Rouge',\n",
    "           'Jefferson',\n",
    "           'Orleans',\n",
    "           'St. Tammany',\n",
    "           'Lafayette',\n",
    "           ]\n",
    "print(len(counties))\n",
    "for county in counties: print(county)"
   ]
  },
  {
   "cell_type": "markdown",
   "metadata": {},
   "source": [
    "# Q2"
   ]
  },
  {
   "cell_type": "code",
   "execution_count": 24,
   "metadata": {},
   "outputs": [
    {
     "name": "stdout",
     "output_type": "stream",
     "text": [
      "East Baton Rouge has the highest population with 446843 individuals.\n",
      "St. Tammany has the lowest population with 227929 individuals.\n",
      "1702437\n"
     ]
    }
   ],
   "source": [
    "county_pop = {\"East Baton Rouge\":446_843,\n",
    "             \"Jefferson\":417_524,\n",
    "             \"Orleans\":358_355,\n",
    "             \"St. Tammany\":227_929,\n",
    "             \"Lafayette\":251_786,\n",
    "             }\n",
    "pop_max_key = max(county_pop, key=county_pop.get)\n",
    "print(pop_max_key, \"has the highest population with\",county_pop[pop_max_key], \"individuals.\")\n",
    "pop_min_key = min(county_pop, key=county_pop.get)\n",
    "print(pop_min_key, \"has the lowest population with\",county_pop[pop_min_key], \"individuals.\")\n",
    "#print(sum(county_pop.values()))     ###1702437\n",
    "\n",
    "\n",
    "total = 0\n",
    "for value in county_pop.values():\n",
    "    #print(value)\n",
    "    total = total+value\n",
    "print(total)    ###1702437"
   ]
  },
  {
   "cell_type": "markdown",
   "metadata": {},
   "source": [
    "# Q3\n",
    "From the homework instructions it seems as though you want the county information to be printed all on one line instead of individually.  Seems... odd, but I can roll with it since this is all exercise anyhow."
   ]
  },
  {
   "cell_type": "code",
   "execution_count": 25,
   "metadata": {},
   "outputs": [
    {
     "name": "stdout",
     "output_type": "stream",
     "text": [
      "East Baton Rouge has a population of 446843 Jefferson has a population of 417524 Orleans has a population of 358355 St. Tammany has a population of 227929 Lafayette has a population of 251786 \n"
     ]
    }
   ],
   "source": [
    "final_str = \"\"\n",
    "for county in county_pop:\n",
    "    temp_str = county + \" has a population of \"+str(county_pop[county])+\" \"\n",
    "    #print(temp_string)\n",
    "    final_str = final_str+temp_str\n",
    "print(final_str)"
   ]
  },
  {
   "cell_type": "markdown",
   "metadata": {},
   "source": [
    "# Q4 "
   ]
  },
  {
   "cell_type": "code",
   "execution_count": 26,
   "metadata": {},
   "outputs": [
    {
     "name": "stdout",
     "output_type": "stream",
     "text": [
      "['East Baton Rouge.shp', 'Jefferson.shp', 'Orleans.shp', 'St. Tammany.shp', 'Lafayette.shp']\n"
     ]
    }
   ],
   "source": [
    "county_shapefiles = [file+\".shp\" for file in counties]\n",
    "print(county_shapefiles)"
   ]
  },
  {
   "cell_type": "markdown",
   "metadata": {},
   "source": [
    "# Q5"
   ]
  },
  {
   "cell_type": "code",
   "execution_count": 27,
   "metadata": {},
   "outputs": [
    {
     "name": "stdout",
     "output_type": "stream",
     "text": [
      "C:/Users/cpjoh/OneDrive/Desktop/GIS_4057/geog4057_C_Johnson/Assignment 4/East Baton Rouge.shp\n",
      "C:/Users/cpjoh/OneDrive/Desktop/GIS_4057/geog4057_C_Johnson/Assignment 4/Jefferson.shp\n",
      "C:/Users/cpjoh/OneDrive/Desktop/GIS_4057/geog4057_C_Johnson/Assignment 4/Orleans.shp\n",
      "C:/Users/cpjoh/OneDrive/Desktop/GIS_4057/geog4057_C_Johnson/Assignment 4/St. Tammany.shp\n",
      "C:/Users/cpjoh/OneDrive/Desktop/GIS_4057/geog4057_C_Johnson/Assignment 4/Lafayette.shp\n"
     ]
    }
   ],
   "source": [
    "import os\n",
    "data_path = r\"C:/Users/cpjoh/OneDrive/Desktop/GIS_4057/geog4057_C_Johnson/Assignment 4/\"\n",
    "counties_fullpaths = [os.path.join(data_path,file) for file in county_shapefiles]\n",
    "for county_file in counties_fullpaths: print(county_file)\n",
    "\n",
    "    "
   ]
  },
  {
   "cell_type": "markdown",
   "metadata": {},
   "source": [
    "# Q6 "
   ]
  },
  {
   "cell_type": "code",
   "execution_count": 28,
   "metadata": {},
   "outputs": [
    {
     "name": "stdout",
     "output_type": "stream",
     "text": [
      "\n",
      "    Compute the total population of the counties in the dictionary\n",
      "    GEOG 4057 GIS Programming\n",
      "    \n",
      "Total Population is: 1702437\n"
     ]
    }
   ],
   "source": [
    "def countPopulation(dictionary_input):\n",
    "    \"\"\"\n",
    "    Compute the total population of the counties in the dictionary\n",
    "    GEOG 4057 GIS Programming\n",
    "    \"\"\"\n",
    "    total = sum(dictionary_input.values())\n",
    "    return(total)\n",
    "print(countPopulation.__doc__)\n",
    "print(\"Total Population is:\",countPopulation(county_pop))"
   ]
  }
 ],
 "metadata": {
  "kernelspec": {
   "display_name": "ArcGISPro",
   "language": "Python",
   "name": "python3"
  },
  "language_info": {
   "file_extension": ".py",
   "name": "python",
   "version": "3"
  }
 },
 "nbformat": 4,
 "nbformat_minor": 2
}
