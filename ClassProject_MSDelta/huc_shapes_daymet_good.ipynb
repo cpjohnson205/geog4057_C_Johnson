{
 "cells": [
  {
   "cell_type": "code",
   "execution_count": null,
   "metadata": {},
   "outputs": [],
   "source": [
    "import numpy\n",
    "import arcpy\n",
    "import os\n",
    "from netCDF4 import Dataset\n",
    "import numpy as np\n",
    "arcpy.env.workspace = r\"D:\\\\proj_data\"\n",
    "arcpy.env.overwriteOutput = True"
   ]
  },
  {
   "cell_type": "code",
   "execution_count": null,
   "metadata": {},
   "outputs": [
    {
     "data": {
      "text/html": [
       "<div class='gpresult'><h2>Messages</h2><div id='messages'>Start Time: Monday, November 11, 2024 6:38:41 AM<br>Succeeded at Monday, November 11, 2024 6:38:45 AM (Elapsed Time: 3.29 seconds)<br></div><div id = 'default' /></div></div>"
      ],
      "text/plain": [
       "<Result 'daymet_prcp'>"
      ]
     },
     "execution_count": 2,
     "metadata": {},
     "output_type": "execute_result"
    }
   ],
   "source": [
    "import arcpy\n",
    "arcpy.md.MakeNetCDFFeatureLayer(\n",
    "    in_netCDF_file=r\"D:\\observed_precip\\daymet\\daymet_v4_prcp_monttl_na_1996.nc\",### input daymet precip\n",
    "    variable=\"prcp;lat;lon\",        ### always place the lat lons after the prcp, there is an order\n",
    "    x_variable=\"x\",\n",
    "    y_variable=\"y\",\n",
    "    out_feature_layer=\"daymet_prcp\",  ### what the outputted feature layer will be called\n",
    "    row_dimension=\"y;x\",              ### what row dimensions it will place points upon\n",
    "    z_variable=\"\",\n",
    "    m_variable=\"\",\n",
    "    dimension_values=None,            ### Can be left default\n",
    "    value_selection_method=\"BY_VALUE\"\n",
    ")"
   ]
  },
  {
   "cell_type": "code",
   "execution_count": null,
   "metadata": {},
   "outputs": [
    {
     "name": "stdout",
     "output_type": "stream",
     "text": [
      "['D:', 'Miss_RiverBasin', 'watershed_shps', 'WBD_08_HU2_Shape_no_below_vicks', 'no_below_vicks', 'WBDHU10.shp']\n",
      "HU2_08_no_below_vicks\n"
     ]
    }
   ],
   "source": [
    "#shape_outer_path = \"d:\\\\proj_data\\\\shape_files\"   ### in case you have multiple shape files you want cutouts of\n",
    "#shapefiles = [shape_outer_path+\"\\\\\"+shape_dir+\"\\\\Shape\\\\WBDHU2.shp\" for shape_dir in os.listdir(shape_outer_path)]  \n",
    "shapefiles = [r\"D:/Miss_RiverBasin/watershed_shps/WBD_08_HU2_Shape_no_below_vicks/no_below_vicks/WBDHU10.shp\"]\n",
    "for shapePath in shapefiles[0:1]:   ###goes through all the shape files int he list\n",
    "    print(shapePath.split(\"/\"))\n",
    "    hucName = \"HU2_\"+shapePath.split(\"/\")[3].split(\"_\")[1]+\"_no_below_vicks\"   ### name to be used for keeping everything ordered\n",
    "    print(hucName)      ###basically a progress bar to see which shapefiles you're clipping from\n",
    "\n",
    "\n",
    "    arcpy.analysis.Clip(\n",
    "        in_features=\"daymet_prcp\",                ### same as the output from previous step\n",
    "        clip_features=shapePath,                  ### shapefile based on path\n",
    "        out_feature_class=\"daymet_prcp_\"+hucName, ### output for this step\n",
    "        cluster_tolerance=None                    ### leave None\n",
    "    )"
   ]
  },
  {
   "cell_type": "code",
   "execution_count": null,
   "metadata": {},
   "outputs": [
    {
     "data": {
      "text/html": [
       "<div class='gpresult'><h2>Messages</h2><div id='messages'>Start Time: Monday, November 11, 2024 7:21:35 AM<br>Succeeded at Monday, November 11, 2024 7:21:40 AM (Elapsed Time: 5.64 seconds)<br></div><div id = 'default' /></div></div>"
      ],
      "text/plain": [
       "<Result 'd:\\\\proj_data\\\\netcdfs\\\\daymet_prcp_HU2_08_no_below_vicks.nc'>"
      ]
     },
     "execution_count": 7,
     "metadata": {},
     "output_type": "execute_result"
    }
   ],
   "source": [
    "arcpy.md.FeatureToNetCDF(\n",
    "    in_features=\"daymet_prcp_\"+hucName,                                  ### output from previous step\n",
    "    fields_to_variables=\"prcp prcp #;lat lat #;lon lon #\",               ### \"Field Variable Unit;\" which arcgis field to which netCDF var\n",
    "    out_netCDF_file=r\"d:\\proj_data\\netcdfs\\daymet_prcp_\"+hucName+\".nc\",  ### The final output\n",
    "    fields_to_dimensions=\"y y #;x x #\"                                   ### same as the fields_to_variables\n",
    ")"
   ]
  }
 ],
 "metadata": {
  "kernelspec": {
   "display_name": "arcpy_clone_kernel",
   "language": "python",
   "name": "arcpy_clone_kernel"
  },
  "language_info": {
   "codemirror_mode": {
    "name": "ipython",
    "version": 3
   },
   "file_extension": ".py",
   "mimetype": "text/x-python",
   "name": "python",
   "nbconvert_exporter": "python",
   "pygments_lexer": "ipython3",
   "version": "3.11.8"
  }
 },
 "nbformat": 4,
 "nbformat_minor": 2
}
