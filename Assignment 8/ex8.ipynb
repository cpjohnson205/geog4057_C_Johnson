{
 "cells": [
  {
   "cell_type": "markdown",
   "metadata": {},
   "source": [
    "Austion Project Directory Info"
   ]
  },
  {
   "cell_type": "code",
   "execution_count": 10,
   "metadata": {},
   "outputs": [
    {
     "name": "stdout",
     "output_type": "stream",
     "text": [
      "c:\\Users\\cpjoh\\OneDrive\\Desktop\\GIS_4057\\Homeworks\\geog4057_Johnson_C_HW8\\ex8\\Austin_Data.gdb\n"
     ]
    }
   ],
   "source": [
    "import arcpy\n",
    "import os\n",
    "pathname = r\"c:\\Users\\cpjoh\\OneDrive\\Desktop\\GIS_4057\\Homeworks\\geog4057_Johnson_C_HW8\\ex8\"\n",
    "aprx = arcpy.mp.ArcGISProject(os.path.join(pathname,\"Austin.aprx\"))\n",
    "print(aprx.defaultGeodatabase)"
   ]
  },
  {
   "cell_type": "code",
   "execution_count": 39,
   "metadata": {},
   "outputs": [],
   "source": [
    "aprx.saveACopy(os.path.join(pathname,'Austin_Copy.aprx'))\n"
   ]
  },
  {
   "cell_type": "markdown",
   "metadata": {},
   "source": [
    "I cannot seem to find an answer to why the copied file is smaller than the original. All I can think of is that perhaps the new file is compressed or maybe there's some \"open\" data I cannot find in the original that doesn't get copied over."
   ]
  },
  {
   "cell_type": "code",
   "execution_count": 40,
   "metadata": {},
   "outputs": [
    {
     "name": "stdout",
     "output_type": "stream",
     "text": [
      "Downtown\n",
      "Foot_US\n",
      "Region\n",
      "Foot_US\n"
     ]
    }
   ],
   "source": [
    "aprx = arcpy.mp.ArcGISProject('CURRENT')\n",
    "maps = aprx.listMaps()\n",
    "for m in maps:\n",
    "    print(m.name)\n",
    "    print(m.mapUnits)\n",
    "del aprx"
   ]
  },
  {
   "cell_type": "markdown",
   "metadata": {},
   "source": [
    "Opening the project file in the script locks the file from being manipulated by outside sources.  The \"del\" function effectively closes it.  It does not actually delete the project."
   ]
  },
  {
   "cell_type": "code",
   "execution_count": 41,
   "metadata": {},
   "outputs": [],
   "source": [
    "aprx = arcpy.mp.ArcGISProject('CURRENT') ###defines the prjoect we want to open and manipulate\n",
    "m = aprx.listMaps(\"Region\")[0]    ###[0] because it puts the function into a list, but there's only the one so we don't need to worry about [:]\n",
    "m.name = \"County\"\n",
    "#m = aprx.listMaps(\"County\")[0]   ### In case it needs to be turned back\n",
    "#m.name = \"Region\"\n",
    "del aprx"
   ]
  },
  {
   "cell_type": "code",
   "execution_count": 42,
   "metadata": {},
   "outputs": [
    {
     "name": "stdout",
     "output_type": "stream",
     "text": [
      "Map: Downtown\n",
      "Light Gray Reference\n",
      "trees\n",
      "parks\n",
      "base\n",
      "Light Gray Base\n",
      "Map: County\n",
      "facilities\n",
      "hospitals\n",
      "parks\n",
      "Topographic\n"
     ]
    }
   ],
   "source": [
    "aprx = arcpy.mp.ArcGISProject('CURRENT')\n",
    "maps = aprx.listMaps()\n",
    "for m in maps:\n",
    "    print(\"Map: \" + m.name)\n",
    "    lyrs = m.listLayers()\n",
    "    for lyr in lyrs:\n",
    "        print(lyr.name)    ### prints each layer under their respective maps.\n",
    "del aprx"
   ]
  },
  {
   "cell_type": "code",
   "execution_count": 43,
   "metadata": {},
   "outputs": [
    {
     "name": "stdout",
     "output_type": "stream",
     "text": [
      "Light Gray Reference is a basemap layer\n",
      "trees is a feature layer\n",
      "parks is a feature layer\n",
      "base is a feature layer\n",
      "Light Gray Base is a basemap layer\n"
     ]
    }
   ],
   "source": [
    "aprx = arcpy.mp.ArcGISProject('CURRENT')\n",
    "m = aprx.listMaps(\"Downtown\")[0]         ###Now looking at just the downtown map\n",
    "lyrs = m.listLayers()                    ### list of the layers of the map provided\n",
    "for lyr in lyrs:\n",
    "    if lyr.isBasemapLayer:               ###Boolean, same for feature layer\n",
    "        print(lyr.name + \" is a basemap layer\")\n",
    "    if lyr.isFeatureLayer:\n",
    "        print(lyr.name + \" is a feature layer\")\n",
    "del aprx\n"
   ]
  },
  {
   "cell_type": "code",
   "execution_count": 11,
   "metadata": {},
   "outputs": [
    {
     "name": "stdout",
     "output_type": "stream",
     "text": [
      "test\n"
     ]
    }
   ],
   "source": [
    "aprx = arcpy.mp.ArcGISProject('CURRENT')\n",
    "m = aprx.listMaps(\"Downtown\")[0]\n",
    "m.addBasemap(\"Light Gray Canvas\")\n",
    "#m.addbasemap adds the light gray basemap and changes it from the base topographic one. \n",
    "###I also note that we do not close the door on this file so to speak, with the del aprx.  I believe we should still be able to use the data but cannot add more"
   ]
  },
  {
   "cell_type": "code",
   "execution_count": 12,
   "metadata": {},
   "outputs": [],
   "source": [
    "aprx = arcpy.mp.ArcGISProject(\"CURRENT\")\n",
    "m = aprx.listMaps(\"Downtown\")[0]\n",
    "lyr = m.listLayers(\"parks\")[0]    ###specifying \"parks\" still puts it in a list so we use [0]\n",
    "sym = lyr.symbology\n",
    "#green = {\"RGB\": [100, 175, 0, 100]}         ###[r,g,b,alpha]\n",
    "brown = {\"RGB\": [185, 150, 0, 100]}\n",
    "if lyr.isFeatureLayer and hasattr(sym, \"renderer\"):  ###if this layer is one that has rendering capabilities\n",
    "    sym.renderer.symbol.color = brown #green\n",
    "    lyr.symbology = sym"
   ]
  },
  {
   "cell_type": "markdown",
   "metadata": {},
   "source": [
    "The color property uses a dictionary to accept several possible modifiable color setting options.  In this case we are using the Red,Green,Blue method. The values of the dictionary are broken down by [Red, Green, Blue, Alpha(opacity)]\n",
    "Brown is easily achievable through mixing Green and Red so we can mainpulate the values or use a color picking tool/googling the brown shade we want in rgb colors to set them to the brown color."
   ]
  },
  {
   "cell_type": "code",
   "execution_count": 13,
   "metadata": {},
   "outputs": [],
   "source": [
    "m = aprx.listMaps(\"Downtown\")[0]\n",
    "\n",
    "lyt = aprx.createLayout( 11,8.5, 'INCH', 'New Layout with Rectangles')  ###creates 11x8.5 rectangle (W x H)\n",
    "\n",
    "def MakeRec_LL(llx, lly, w, h):\n",
    "    xyRecList = [[llx, lly], [llx, lly+h], [llx+w,lly+h], [llx+w,lly], [llx,lly]]   ###with an inputed bottom left corner as input and the desired width and height it creats a polygon used below for the map frame\n",
    "    array = arcpy.Array([arcpy.Point(*coords) for coords in xyRecList])   ###to create a polygon points are needed\n",
    "    rec = arcpy.Polygon(array)\n",
    "    return rec\n",
    "\n",
    "mf = lyt.createMapFrame(MakeRec_LL(0.5,0.5,10,7.5), m, \"New Map Frame\")    ###creates a map frame using function above. creates a 10x7.5 inch frame on our 11x8.5 inch layout (.5 inches on all sides for a padding)"
   ]
  },
  {
   "cell_type": "code",
   "execution_count": 14,
   "metadata": {},
   "outputs": [],
   "source": [
    "#Create a north arrow\n",
    "naStyle = aprx.listStyleItems('ArcGIS 2D', 'North_Arrow', 'Compass North 1')[0]   ###bring in the desired compass rose\n",
    "na = lyt.createMapSurroundElement(arcpy.Point(9.5,7.5), 'North_Arrow', mf,        ###Where you want it to be centered\n",
    "                                      naStyle, \"Compass North Arrow\")\n",
    "na.elementWidth = 0.5  \n",
    "\n",
    "#Create a scale bar\n",
    "sbName = 'Double Alternating Scale Bar 1 Metric'\n",
    "sbStyle = aprx.listStyleItems('ArcGIS 2D', 'Scale_bar', sbName)[0]                ###bring in the colorbar, creates it, doesn't bring it in\n",
    "sbEnv = MakeRec_LL(5.5, 0.1, 4, 0.5)      ###using that function to create another polygon to size the scale bar\n",
    "sb = lyt.createMapSurroundElement(sbEnv, 'Scale_bar', mf, sbStyle, 'New Scale Bar')"
   ]
  },
  {
   "cell_type": "code",
   "execution_count": 15,
   "metadata": {},
   "outputs": [],
   "source": [
    "legSi = aprx.listStyleItems('ArcGIS 2D', 'LEGEND', 'Legend 3' )[0]                             ###grab a legend design\n",
    "leg = lyt.createMapSurroundElement(arcpy.Point(1,7), 'LEGEND', mf, legSi, 'New Legend Element') ###creates the legend\n",
    "leg.elementWidth = 3\n",
    "leg.elementHeight = 3\n",
    "leg.fittingStrategy = 'AdjustFontSize'   ###parameters to adjust the look of the legend\n",
    "leg.columnCount = 1\n",
    "leg.title = 'Downtown'"
   ]
  },
  {
   "cell_type": "code",
   "execution_count": 16,
   "metadata": {},
   "outputs": [
    {
     "name": "stdout",
     "output_type": "stream",
     "text": [
      "done\n"
     ]
    }
   ],
   "source": [
    "lyt.exportToPDF(os.path.join(pathname, 'downtown1.pdf'))   ###exports the created map with the layout and framing as pdf\n",
    "#print(\"done\")"
   ]
  },
  {
   "cell_type": "markdown",
   "metadata": {},
   "source": [
    "The layout is what the holds the map image/frame and is set to be 8.5 inches in height and 11 inches in width.\n",
    "The map frame is what depicts the map and is created using a polygon and coordinates in reference to the layout.  So here we make the map frame 7.5 inches in height and 10 inches in width to provide a half-inch of framing on all sides.\n",
    "\n",
    "The benefit of this metho-in my opinion-is how organized everything is.  I am relatively new to GIS and the processes to create and activate maps, creating legends, trying to manipulate the text on them is convoluted.  Here you set your parameters and you're off to the races.  You can also be very precise with what sizes you want your maps to be instead of fumbling around with the mouse to set them.  "
   ]
  },
  {
   "cell_type": "code",
   "execution_count": null,
   "metadata": {},
   "outputs": [],
   "source": []
  }
 ],
 "metadata": {
  "kernelspec": {
   "display_name": "ArcGISPro",
   "language": "Python",
   "name": "python3"
  },
  "language_info": {
   "file_extension": ".py",
   "name": "python",
   "version": "3"
  }
 },
 "nbformat": 4,
 "nbformat_minor": 2
}
